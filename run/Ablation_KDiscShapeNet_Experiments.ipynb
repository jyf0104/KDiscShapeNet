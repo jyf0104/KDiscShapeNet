{
 "cells": [
  {
   "cell_type": "markdown",
   "id": "c49d3841",
   "metadata": {},
   "source": [
    "# ✅ Final Integrated Notebook: KAN Ablation Experiments A–G"
   ]
  },
  {
   "cell_type": "markdown",
   "id": "f07a47c3",
   "metadata": {},
   "source": [
    "# Ablation Experiments: A–G"
   ]
  },
  {
   "cell_type": "code",
   "execution_count": 49,
   "id": "c4a46081",
   "metadata": {},
   "outputs": [],
   "source": [
    "\n",
    "import numpy as np\n",
    "import torch\n",
    "import torch.nn as nn\n",
    "import torch.nn.functional as F\n",
    "from torch.utils.data import DataLoader, TensorDataset\n",
    "from sklearn.preprocessing import StandardScaler\n",
    "from sklearn.metrics import adjusted_rand_score, normalized_mutual_info_score, silhouette_score\n",
    "from sklearn.manifold import TSNE\n",
    "import matplotlib.pyplot as plt\n",
    "from tqdm import tqdm\n",
    "import seaborn as sns\n",
    "from scipy.optimize import linear_sum_assignment\n",
    "from copy import deepcopy\n"
   ]
  },
  {
   "cell_type": "code",
   "execution_count": 50,
   "id": "f7752b22",
   "metadata": {},
   "outputs": [],
   "source": [
    "\n",
    "def load_trace_dataset(train_path='Trace_TRAIN.tsv', test_path='Trace_TEST.tsv', normalize=True):\n",
    "    train_data = np.loadtxt(train_path)\n",
    "    test_data = np.loadtxt(test_path)\n",
    "    X = np.concatenate([train_data[:, 1:], test_data[:, 1:]], axis=0)\n",
    "    y = np.concatenate([train_data[:, 0], test_data[:, 0]], axis=0).astype(int)\n",
    "\n",
    "    unique_labels = np.unique(y)\n",
    "    label_map = {old: new for new, old in enumerate(unique_labels)}\n",
    "    y = np.array([label_map[label] for label in y])\n",
    "\n",
    "    if normalize:\n",
    "        X = StandardScaler().fit_transform(X)\n",
    "    return X, y\n",
    "\n",
    "X, y = load_trace_dataset()\n",
    "num_classes = len(np.unique(y))\n"
   ]
  },
  {
   "cell_type": "code",
   "execution_count": 52,
   "id": "5c23b02c",
   "metadata": {},
   "outputs": [],
   "source": [
    "import torch\n",
    "import torch.nn as nn\n",
    "import torch.nn.functional as F\n",
    "import sys\n",
    "\n",
    "sys.path.insert(0, './pykan_local/kan')  # 加入你本地pykan目录\n",
    "\n",
    "from KANLayer_local import KANLayer # 来自你 pykan 文件夹\n",
    "all_encoders = {}\n",
    "class KANEncoder(nn.Module):\n",
    "    def __init__(self, input_dim=275, hidden_dim=128, output_dim=128):\n",
    "        super().__init__()\n",
    "        self.layer1 = KANLayer(in_dim=input_dim, out_dim=hidden_dim, num=21)\n",
    "        self.layer2 = KANLayer(in_dim=hidden_dim, out_dim=hidden_dim, num=21)\n",
    "        self.layer3 = KANLayer(in_dim=hidden_dim, out_dim=output_dim, num=21)\n",
    "\n",
    "    def forward(self, x):\n",
    "        x, _, _, _ = self.layer1(x)\n",
    "        x, _, _, _ = self.layer2(x)\n",
    "        x, _, _, _ = self.layer3(x)\n",
    "        return F.normalize(x, dim=-1)"
   ]
  },
  {
   "cell_type": "code",
   "execution_count": 53,
   "id": "dea2cd9e-917f-4f17-8938-8bc159355ffb",
   "metadata": {},
   "outputs": [],
   "source": [
    "import torch.nn as nn\n",
    "\n",
    "class MLPEncoder(nn.Module):\n",
    "    def __init__(self, input_dim=275, hidden_dim=128, output_dim=128):\n",
    "        super().__init__()\n",
    "        self.net = nn.Sequential(\n",
    "            nn.Linear(input_dim, hidden_dim),\n",
    "            nn.ReLU(),\n",
    "            nn.Linear(hidden_dim, output_dim)\n",
    "        )\n",
    "\n",
    "    def forward(self, x):\n",
    "        return self.net(x)\n"
   ]
  },
  {
   "cell_type": "code",
   "execution_count": 8,
   "id": "67c620ba",
   "metadata": {},
   "outputs": [],
   "source": [
    "\n",
    "class CenterLoss(nn.Module):\n",
    "    def __init__(self, num_classes, feat_dim):\n",
    "        super().__init__()\n",
    "        self.centers = nn.Parameter(torch.randn(num_classes, feat_dim))\n",
    "\n",
    "    def forward(self, x, labels):\n",
    "        return ((x - self.centers[labels])**2).sum() / 2.0\n",
    "\n",
    "class SupConLoss(nn.Module):\n",
    "    def __init__(self, temperature=0.07):\n",
    "        super().__init__()\n",
    "        self.temperature = temperature\n",
    "\n",
    "    def forward(self, features, labels):\n",
    "        device = features.device\n",
    "        features = F.normalize(features, dim=1)\n",
    "        sim_matrix = torch.matmul(features, features.T) / self.temperature\n",
    "        mask = torch.eq(labels.unsqueeze(1), labels.unsqueeze(0)).float().to(device)\n",
    "        logits_mask = torch.ones_like(mask) - torch.eye(features.shape[0], device=device)\n",
    "        exp_sim = torch.exp(sim_matrix) * logits_mask\n",
    "        log_prob = sim_matrix - torch.log(exp_sim.sum(dim=1, keepdim=True) + 1e-9)\n",
    "        mean_log_prob_pos = (mask * log_prob).sum(1) / mask.sum(1).clamp(min=1)\n",
    "        return -mean_log_prob_pos.mean()\n",
    "\n",
    "def differentiable_kshape_loss(features, labels, num_classes):\n",
    "    loss = 0\n",
    "    for c in range(num_classes):\n",
    "        mask = labels == c\n",
    "        if mask.sum() < 2:\n",
    "            continue\n",
    "        cluster_feat = features[mask]\n",
    "        prototype = cluster_feat.mean(dim=0)\n",
    "        aligned = F.cosine_similarity(cluster_feat, prototype.unsqueeze(0))\n",
    "        loss += (1 - aligned).mean()\n",
    "    return loss\n"
   ]
  },
  {
   "cell_type": "markdown",
   "id": "6dcae160",
   "metadata": {},
   "source": [
    "## Experiment A: {'kan': False, 'supcon': False, 'diversity': False}"
   ]
  },
  {
   "cell_type": "code",
   "execution_count": 55,
   "id": "0798885c",
   "metadata": {},
   "outputs": [],
   "source": [
    "use_kan = False\n",
    "use_supcon = False\n",
    "use_diversity = False\n",
    "exp_name = 'A' "
   ]
  },
  {
   "cell_type": "code",
   "execution_count": 56,
   "id": "6c1d640a",
   "metadata": {},
   "outputs": [],
   "source": [
    "encoder = KANEncoder(input_dim=X.shape[1], output_dim=128) if use_kan else MLPEncoder(input_dim=X.shape[1], output_dim=128)\n",
    "center_loss_fn = CenterLoss(num_classes=num_classes, feat_dim=128)\n",
    "supcon_loss_fn = SupConLoss()\n",
    "optimizer = torch.optim.Adam(encoder.parameters(), lr=1e-3)"
   ]
  },
  {
   "cell_type": "code",
   "execution_count": 57,
   "id": "fc7146b8",
   "metadata": {},
   "outputs": [
    {
     "name": "stderr",
     "output_type": "stream",
     "text": [
      "  5%|▌         | 1/20 [00:01<00:35,  1.89s/it]"
     ]
    },
    {
     "name": "stdout",
     "output_type": "stream",
     "text": [
      "Epoch 0 | Loss: 0.0000 | ARI: 0.5820 | NMI: 0.6716 | Silhouette: 0.3079\n"
     ]
    },
    {
     "name": "stderr",
     "output_type": "stream",
     "text": [
      " 10%|█         | 2/20 [00:04<00:40,  2.25s/it]"
     ]
    },
    {
     "name": "stdout",
     "output_type": "stream",
     "text": [
      "Epoch 1 | Loss: 0.0000 | ARI: 0.5820 | NMI: 0.6716 | Silhouette: 0.3079\n"
     ]
    },
    {
     "name": "stderr",
     "output_type": "stream",
     "text": [
      " 15%|█▌        | 3/20 [00:07<00:42,  2.50s/it]"
     ]
    },
    {
     "name": "stdout",
     "output_type": "stream",
     "text": [
      "Epoch 2 | Loss: 0.0000 | ARI: 0.5820 | NMI: 0.6716 | Silhouette: 0.3079\n"
     ]
    },
    {
     "name": "stderr",
     "output_type": "stream",
     "text": [
      " 20%|██        | 4/20 [00:09<00:39,  2.46s/it]"
     ]
    },
    {
     "name": "stdout",
     "output_type": "stream",
     "text": [
      "Epoch 3 | Loss: 0.0000 | ARI: 0.5820 | NMI: 0.6716 | Silhouette: 0.3079\n"
     ]
    },
    {
     "name": "stderr",
     "output_type": "stream",
     "text": [
      " 25%|██▌       | 5/20 [00:11<00:36,  2.40s/it]"
     ]
    },
    {
     "name": "stdout",
     "output_type": "stream",
     "text": [
      "Epoch 4 | Loss: 0.0000 | ARI: 0.5820 | NMI: 0.6716 | Silhouette: 0.3079\n"
     ]
    },
    {
     "name": "stderr",
     "output_type": "stream",
     "text": [
      " 30%|███       | 6/20 [00:14<00:34,  2.44s/it]"
     ]
    },
    {
     "name": "stdout",
     "output_type": "stream",
     "text": [
      "Epoch 5 | Loss: 0.0000 | ARI: 0.5820 | NMI: 0.6716 | Silhouette: 0.3079\n"
     ]
    },
    {
     "name": "stderr",
     "output_type": "stream",
     "text": [
      " 35%|███▌      | 7/20 [00:16<00:31,  2.45s/it]"
     ]
    },
    {
     "name": "stdout",
     "output_type": "stream",
     "text": [
      "Epoch 6 | Loss: 0.0000 | ARI: 0.5820 | NMI: 0.6716 | Silhouette: 0.3079\n"
     ]
    },
    {
     "name": "stderr",
     "output_type": "stream",
     "text": [
      " 40%|████      | 8/20 [00:19<00:29,  2.44s/it]"
     ]
    },
    {
     "name": "stdout",
     "output_type": "stream",
     "text": [
      "Epoch 7 | Loss: 0.0000 | ARI: 0.5820 | NMI: 0.6716 | Silhouette: 0.3079\n"
     ]
    },
    {
     "name": "stderr",
     "output_type": "stream",
     "text": [
      " 45%|████▌     | 9/20 [00:21<00:27,  2.49s/it]"
     ]
    },
    {
     "name": "stdout",
     "output_type": "stream",
     "text": [
      "Epoch 8 | Loss: 0.0000 | ARI: 0.5820 | NMI: 0.6716 | Silhouette: 0.3079\n"
     ]
    },
    {
     "name": "stderr",
     "output_type": "stream",
     "text": [
      " 50%|█████     | 10/20 [00:24<00:24,  2.43s/it]"
     ]
    },
    {
     "name": "stdout",
     "output_type": "stream",
     "text": [
      "Epoch 9 | Loss: 0.0000 | ARI: 0.5820 | NMI: 0.6716 | Silhouette: 0.3079\n"
     ]
    },
    {
     "name": "stderr",
     "output_type": "stream",
     "text": [
      " 55%|█████▌    | 11/20 [00:26<00:22,  2.54s/it]"
     ]
    },
    {
     "name": "stdout",
     "output_type": "stream",
     "text": [
      "Epoch 10 | Loss: 0.0000 | ARI: 0.5820 | NMI: 0.6716 | Silhouette: 0.3079\n"
     ]
    },
    {
     "name": "stderr",
     "output_type": "stream",
     "text": [
      " 60%|██████    | 12/20 [00:29<00:20,  2.62s/it]"
     ]
    },
    {
     "name": "stdout",
     "output_type": "stream",
     "text": [
      "Epoch 11 | Loss: 0.0000 | ARI: 0.5820 | NMI: 0.6716 | Silhouette: 0.3079\n"
     ]
    },
    {
     "name": "stderr",
     "output_type": "stream",
     "text": [
      " 65%|██████▌   | 13/20 [00:32<00:17,  2.50s/it]"
     ]
    },
    {
     "name": "stdout",
     "output_type": "stream",
     "text": [
      "Epoch 12 | Loss: 0.0000 | ARI: 0.5820 | NMI: 0.6716 | Silhouette: 0.3079\n"
     ]
    },
    {
     "name": "stderr",
     "output_type": "stream",
     "text": [
      " 70%|███████   | 14/20 [00:34<00:15,  2.56s/it]"
     ]
    },
    {
     "name": "stdout",
     "output_type": "stream",
     "text": [
      "Epoch 13 | Loss: 0.0000 | ARI: 0.5820 | NMI: 0.6716 | Silhouette: 0.3079\n"
     ]
    },
    {
     "name": "stderr",
     "output_type": "stream",
     "text": [
      " 75%|███████▌  | 15/20 [00:37<00:12,  2.48s/it]"
     ]
    },
    {
     "name": "stdout",
     "output_type": "stream",
     "text": [
      "Epoch 14 | Loss: 0.0000 | ARI: 0.5820 | NMI: 0.6716 | Silhouette: 0.3079\n"
     ]
    },
    {
     "name": "stderr",
     "output_type": "stream",
     "text": [
      " 80%|████████  | 16/20 [00:39<00:09,  2.40s/it]"
     ]
    },
    {
     "name": "stdout",
     "output_type": "stream",
     "text": [
      "Epoch 15 | Loss: 0.0000 | ARI: 0.5820 | NMI: 0.6716 | Silhouette: 0.3079\n"
     ]
    },
    {
     "name": "stderr",
     "output_type": "stream",
     "text": [
      " 85%|████████▌ | 17/20 [00:41<00:07,  2.48s/it]"
     ]
    },
    {
     "name": "stdout",
     "output_type": "stream",
     "text": [
      "Epoch 16 | Loss: 0.0000 | ARI: 0.5820 | NMI: 0.6716 | Silhouette: 0.3079\n"
     ]
    },
    {
     "name": "stderr",
     "output_type": "stream",
     "text": [
      " 90%|█████████ | 18/20 [00:44<00:05,  2.52s/it]"
     ]
    },
    {
     "name": "stdout",
     "output_type": "stream",
     "text": [
      "Epoch 17 | Loss: 0.0000 | ARI: 0.5820 | NMI: 0.6716 | Silhouette: 0.3079\n"
     ]
    },
    {
     "name": "stderr",
     "output_type": "stream",
     "text": [
      " 95%|█████████▌| 19/20 [00:46<00:02,  2.39s/it]"
     ]
    },
    {
     "name": "stdout",
     "output_type": "stream",
     "text": [
      "Epoch 18 | Loss: 0.0000 | ARI: 0.5820 | NMI: 0.6716 | Silhouette: 0.3079\n"
     ]
    },
    {
     "name": "stderr",
     "output_type": "stream",
     "text": [
      "100%|██████████| 20/20 [00:48<00:00,  2.42s/it]"
     ]
    },
    {
     "name": "stdout",
     "output_type": "stream",
     "text": [
      "Epoch 19 | Loss: 0.0000 | ARI: 0.5820 | NMI: 0.6716 | Silhouette: 0.3079\n"
     ]
    },
    {
     "name": "stderr",
     "output_type": "stream",
     "text": [
      "\n"
     ]
    }
   ],
   "source": [
    "from sklearn.cluster import KMeans\n",
    "from sklearn.metrics import adjusted_rand_score, normalized_mutual_info_score, silhouette_score\n",
    "import matplotlib.pyplot as plt\n",
    "import torch\n",
    "from torch.utils.data import TensorDataset, DataLoader\n",
    "from tqdm import tqdm\n",
    "\n",
    "X_tensor = torch.tensor(X, dtype=torch.float32)\n",
    "y_tensor = torch.tensor(y, dtype=torch.long)\n",
    "dataset = TensorDataset(X_tensor, y_tensor)\n",
    "loader = DataLoader(dataset, batch_size=32, shuffle=True)\n",
    "\n",
    "encoder = KANEncoder(input_dim=X.shape[1], output_dim=128)\n",
    "center_loss_fn = CenterLoss(num_classes=num_classes, feat_dim=128)\n",
    "supcon_loss_fn = SupConLoss()\n",
    "optimizer = torch.optim.Adam(encoder.parameters(), lr=1e-3)\n",
    "\n",
    "epochs = 20\n",
    "loss_history = []\n",
    "ari_history = []\n",
    "nmi_history = []\n",
    "\n",
    "for epoch in tqdm(range(epochs)):\n",
    "    encoder.train()\n",
    "    total_loss = 0\n",
    "\n",
    "    for xb, yb in loader:\n",
    "        optimizer.zero_grad()\n",
    "        feats = encoder(xb)\n",
    "        loss = torch.tensor(0.0, requires_grad=True).to(xb.device)\n",
    "\n",
    "        if use_diversity:\n",
    "            loss += center_loss_fn(feats, yb) + differentiable_kshape_loss(feats, yb, num_classes)\n",
    "        if use_supcon:\n",
    "            loss += supcon_loss_fn(feats, yb)\n",
    "        loss.backward()\n",
    "        optimizer.step()\n",
    "        total_loss += loss.item()\n",
    "\n",
    "    loss_history.append(total_loss)\n",
    "\n",
    "   # ===== ✅ 聚类评估指标 =====\n",
    "    encoder.eval()\n",
    "    with torch.no_grad():\n",
    "        feats_all = encoder(X_tensor).cpu().numpy()\n",
    "        true_labels = y_tensor.cpu().numpy()\n",
    "\n",
    "    kmeans = KMeans(n_clusters=num_classes, n_init=20, random_state=42)\n",
    "    pred_labels = kmeans.fit_predict(feats_all)\n",
    "\n",
    "    ari = adjusted_rand_score(true_labels, pred_labels)\n",
    "    nmi = normalized_mutual_info_score(true_labels, pred_labels)\n",
    "    sil = silhouette_score(feats_all, pred_labels)\n",
    "\n",
    "    ari_history.append(ari)\n",
    "    nmi_history.append(nmi)\n",
    "\n",
    "    print(f\"Epoch {epoch} | Loss: {total_loss:.4f} | ARI: {ari:.4f} | NMI: {nmi:.4f} | Silhouette: {sil:.4f}\")\n",
    "    # 保存当前实验的最终 encoder\n",
    "all_encoders[exp_name] = deepcopy(encoder)\n"
   ]
  },
  {
   "cell_type": "markdown",
   "id": "bc19b73e",
   "metadata": {},
   "source": [
    "## Experiment B: {'kan': True, 'supcon': False, 'diversity': False}"
   ]
  },
  {
   "cell_type": "code",
   "execution_count": 58,
   "id": "b8d7a28b",
   "metadata": {},
   "outputs": [],
   "source": [
    "use_kan = True\n",
    "use_supcon = False\n",
    "use_diversity = False\n",
    "exp_name = 'B' "
   ]
  },
  {
   "cell_type": "code",
   "execution_count": 59,
   "id": "3e12af80",
   "metadata": {},
   "outputs": [],
   "source": [
    "encoder = KANEncoder(input_dim=X.shape[1], output_dim=128) if use_kan else MLPEncoder(input_dim=X.shape[1], output_dim=128)\n",
    "center_loss_fn = CenterLoss(num_classes=num_classes, feat_dim=128)\n",
    "supcon_loss_fn = SupConLoss()\n",
    "optimizer = torch.optim.Adam(encoder.parameters(), lr=1e-3)"
   ]
  },
  {
   "cell_type": "code",
   "execution_count": 60,
   "id": "1e58c1c3",
   "metadata": {},
   "outputs": [
    {
     "name": "stderr",
     "output_type": "stream",
     "text": [
      "  3%|▎         | 1/30 [00:00<00:23,  1.26it/s]"
     ]
    },
    {
     "name": "stdout",
     "output_type": "stream",
     "text": [
      "Epoch 0 | Loss: 0.0000 | ARI: 0.3407 | NMI: 0.5088 | Silhouette: 0.3179\n"
     ]
    },
    {
     "name": "stderr",
     "output_type": "stream",
     "text": [
      "  7%|▋         | 2/30 [00:02<00:30,  1.08s/it]"
     ]
    },
    {
     "name": "stdout",
     "output_type": "stream",
     "text": [
      "Epoch 1 | Loss: 0.0000 | ARI: 0.3407 | NMI: 0.5088 | Silhouette: 0.3179\n"
     ]
    },
    {
     "name": "stderr",
     "output_type": "stream",
     "text": [
      " 10%|█         | 3/30 [00:03<00:29,  1.10s/it]"
     ]
    },
    {
     "name": "stdout",
     "output_type": "stream",
     "text": [
      "Epoch 2 | Loss: 0.0000 | ARI: 0.3407 | NMI: 0.5088 | Silhouette: 0.3179\n"
     ]
    },
    {
     "name": "stderr",
     "output_type": "stream",
     "text": [
      " 13%|█▎        | 4/30 [00:04<00:32,  1.25s/it]"
     ]
    },
    {
     "name": "stdout",
     "output_type": "stream",
     "text": [
      "Epoch 3 | Loss: 0.0000 | ARI: 0.3407 | NMI: 0.5088 | Silhouette: 0.3179\n"
     ]
    },
    {
     "name": "stderr",
     "output_type": "stream",
     "text": [
      " 17%|█▋        | 5/30 [00:05<00:28,  1.13s/it]"
     ]
    },
    {
     "name": "stdout",
     "output_type": "stream",
     "text": [
      "Epoch 4 | Loss: 0.0000 | ARI: 0.3407 | NMI: 0.5088 | Silhouette: 0.3179\n"
     ]
    },
    {
     "name": "stderr",
     "output_type": "stream",
     "text": [
      " 20%|██        | 6/30 [00:07<00:33,  1.39s/it]"
     ]
    },
    {
     "name": "stdout",
     "output_type": "stream",
     "text": [
      "Epoch 5 | Loss: 0.0000 | ARI: 0.3407 | NMI: 0.5088 | Silhouette: 0.3179\n"
     ]
    },
    {
     "name": "stderr",
     "output_type": "stream",
     "text": [
      " 23%|██▎       | 7/30 [00:09<00:34,  1.50s/it]"
     ]
    },
    {
     "name": "stdout",
     "output_type": "stream",
     "text": [
      "Epoch 6 | Loss: 0.0000 | ARI: 0.3407 | NMI: 0.5088 | Silhouette: 0.3179\n"
     ]
    },
    {
     "name": "stderr",
     "output_type": "stream",
     "text": [
      " 27%|██▋       | 8/30 [00:10<00:29,  1.34s/it]"
     ]
    },
    {
     "name": "stdout",
     "output_type": "stream",
     "text": [
      "Epoch 7 | Loss: 0.0000 | ARI: 0.3407 | NMI: 0.5088 | Silhouette: 0.3179\n"
     ]
    },
    {
     "name": "stderr",
     "output_type": "stream",
     "text": [
      " 30%|███       | 9/30 [00:11<00:27,  1.29s/it]"
     ]
    },
    {
     "name": "stdout",
     "output_type": "stream",
     "text": [
      "Epoch 8 | Loss: 0.0000 | ARI: 0.3407 | NMI: 0.5088 | Silhouette: 0.3179\n"
     ]
    },
    {
     "name": "stderr",
     "output_type": "stream",
     "text": [
      " 33%|███▎      | 10/30 [00:13<00:32,  1.61s/it]"
     ]
    },
    {
     "name": "stdout",
     "output_type": "stream",
     "text": [
      "Epoch 9 | Loss: 0.0000 | ARI: 0.3407 | NMI: 0.5088 | Silhouette: 0.3179\n"
     ]
    },
    {
     "name": "stderr",
     "output_type": "stream",
     "text": [
      " 37%|███▋      | 11/30 [00:15<00:29,  1.54s/it]"
     ]
    },
    {
     "name": "stdout",
     "output_type": "stream",
     "text": [
      "Epoch 10 | Loss: 0.0000 | ARI: 0.3407 | NMI: 0.5088 | Silhouette: 0.3179\n"
     ]
    },
    {
     "name": "stderr",
     "output_type": "stream",
     "text": [
      " 40%|████      | 12/30 [00:16<00:28,  1.56s/it]"
     ]
    },
    {
     "name": "stdout",
     "output_type": "stream",
     "text": [
      "Epoch 11 | Loss: 0.0000 | ARI: 0.3407 | NMI: 0.5088 | Silhouette: 0.3179\n"
     ]
    },
    {
     "name": "stderr",
     "output_type": "stream",
     "text": [
      " 43%|████▎     | 13/30 [00:17<00:24,  1.45s/it]"
     ]
    },
    {
     "name": "stdout",
     "output_type": "stream",
     "text": [
      "Epoch 12 | Loss: 0.0000 | ARI: 0.3407 | NMI: 0.5088 | Silhouette: 0.3179\n"
     ]
    },
    {
     "name": "stderr",
     "output_type": "stream",
     "text": [
      " 47%|████▋     | 14/30 [00:18<00:20,  1.26s/it]"
     ]
    },
    {
     "name": "stdout",
     "output_type": "stream",
     "text": [
      "Epoch 13 | Loss: 0.0000 | ARI: 0.3407 | NMI: 0.5088 | Silhouette: 0.3179\n"
     ]
    },
    {
     "name": "stderr",
     "output_type": "stream",
     "text": [
      " 50%|█████     | 15/30 [00:19<00:18,  1.27s/it]"
     ]
    },
    {
     "name": "stdout",
     "output_type": "stream",
     "text": [
      "Epoch 14 | Loss: 0.0000 | ARI: 0.3407 | NMI: 0.5088 | Silhouette: 0.3179\n"
     ]
    },
    {
     "name": "stderr",
     "output_type": "stream",
     "text": [
      " 53%|█████▎    | 16/30 [00:21<00:17,  1.28s/it]"
     ]
    },
    {
     "name": "stdout",
     "output_type": "stream",
     "text": [
      "Epoch 15 | Loss: 0.0000 | ARI: 0.3407 | NMI: 0.5088 | Silhouette: 0.3179\n"
     ]
    },
    {
     "name": "stderr",
     "output_type": "stream",
     "text": [
      " 57%|█████▋    | 17/30 [00:22<00:17,  1.35s/it]"
     ]
    },
    {
     "name": "stdout",
     "output_type": "stream",
     "text": [
      "Epoch 16 | Loss: 0.0000 | ARI: 0.3407 | NMI: 0.5088 | Silhouette: 0.3179\n"
     ]
    },
    {
     "name": "stderr",
     "output_type": "stream",
     "text": [
      " 60%|██████    | 18/30 [00:24<00:17,  1.42s/it]"
     ]
    },
    {
     "name": "stdout",
     "output_type": "stream",
     "text": [
      "Epoch 17 | Loss: 0.0000 | ARI: 0.3407 | NMI: 0.5088 | Silhouette: 0.3179\n"
     ]
    },
    {
     "name": "stderr",
     "output_type": "stream",
     "text": [
      " 63%|██████▎   | 19/30 [00:25<00:14,  1.33s/it]"
     ]
    },
    {
     "name": "stdout",
     "output_type": "stream",
     "text": [
      "Epoch 18 | Loss: 0.0000 | ARI: 0.3407 | NMI: 0.5088 | Silhouette: 0.3179\n"
     ]
    },
    {
     "name": "stderr",
     "output_type": "stream",
     "text": [
      " 67%|██████▋   | 20/30 [00:26<00:12,  1.25s/it]"
     ]
    },
    {
     "name": "stdout",
     "output_type": "stream",
     "text": [
      "Epoch 19 | Loss: 0.0000 | ARI: 0.3407 | NMI: 0.5088 | Silhouette: 0.3179\n"
     ]
    },
    {
     "name": "stderr",
     "output_type": "stream",
     "text": [
      " 70%|███████   | 21/30 [00:27<00:11,  1.24s/it]"
     ]
    },
    {
     "name": "stdout",
     "output_type": "stream",
     "text": [
      "Epoch 20 | Loss: 0.0000 | ARI: 0.3407 | NMI: 0.5088 | Silhouette: 0.3179\n"
     ]
    },
    {
     "name": "stderr",
     "output_type": "stream",
     "text": [
      " 73%|███████▎  | 22/30 [00:28<00:09,  1.14s/it]"
     ]
    },
    {
     "name": "stdout",
     "output_type": "stream",
     "text": [
      "Epoch 21 | Loss: 0.0000 | ARI: 0.3407 | NMI: 0.5088 | Silhouette: 0.3179\n"
     ]
    },
    {
     "name": "stderr",
     "output_type": "stream",
     "text": [
      " 77%|███████▋  | 23/30 [00:29<00:08,  1.15s/it]"
     ]
    },
    {
     "name": "stdout",
     "output_type": "stream",
     "text": [
      "Epoch 22 | Loss: 0.0000 | ARI: 0.3407 | NMI: 0.5088 | Silhouette: 0.3179\n"
     ]
    },
    {
     "name": "stderr",
     "output_type": "stream",
     "text": [
      " 80%|████████  | 24/30 [00:30<00:06,  1.14s/it]"
     ]
    },
    {
     "name": "stdout",
     "output_type": "stream",
     "text": [
      "Epoch 23 | Loss: 0.0000 | ARI: 0.3407 | NMI: 0.5088 | Silhouette: 0.3179\n"
     ]
    },
    {
     "name": "stderr",
     "output_type": "stream",
     "text": [
      " 83%|████████▎ | 25/30 [00:33<00:07,  1.40s/it]"
     ]
    },
    {
     "name": "stdout",
     "output_type": "stream",
     "text": [
      "Epoch 24 | Loss: 0.0000 | ARI: 0.3407 | NMI: 0.5088 | Silhouette: 0.3179\n"
     ]
    },
    {
     "name": "stderr",
     "output_type": "stream",
     "text": [
      " 87%|████████▋ | 26/30 [00:36<00:08,  2.06s/it]"
     ]
    },
    {
     "name": "stdout",
     "output_type": "stream",
     "text": [
      "Epoch 25 | Loss: 0.0000 | ARI: 0.3407 | NMI: 0.5088 | Silhouette: 0.3179\n"
     ]
    },
    {
     "name": "stderr",
     "output_type": "stream",
     "text": [
      " 90%|█████████ | 27/30 [00:40<00:07,  2.58s/it]"
     ]
    },
    {
     "name": "stdout",
     "output_type": "stream",
     "text": [
      "Epoch 26 | Loss: 0.0000 | ARI: 0.3407 | NMI: 0.5088 | Silhouette: 0.3179\n"
     ]
    },
    {
     "name": "stderr",
     "output_type": "stream",
     "text": [
      " 93%|█████████▎| 28/30 [00:42<00:05,  2.52s/it]"
     ]
    },
    {
     "name": "stdout",
     "output_type": "stream",
     "text": [
      "Epoch 27 | Loss: 0.0000 | ARI: 0.3407 | NMI: 0.5088 | Silhouette: 0.3179\n"
     ]
    },
    {
     "name": "stderr",
     "output_type": "stream",
     "text": [
      " 97%|█████████▋| 29/30 [00:45<00:02,  2.50s/it]"
     ]
    },
    {
     "name": "stdout",
     "output_type": "stream",
     "text": [
      "Epoch 28 | Loss: 0.0000 | ARI: 0.3407 | NMI: 0.5088 | Silhouette: 0.3179\n"
     ]
    },
    {
     "name": "stderr",
     "output_type": "stream",
     "text": [
      "100%|██████████| 30/30 [00:47<00:00,  1.58s/it]"
     ]
    },
    {
     "name": "stdout",
     "output_type": "stream",
     "text": [
      "Epoch 29 | Loss: 0.0000 | ARI: 0.3407 | NMI: 0.5088 | Silhouette: 0.3179\n"
     ]
    },
    {
     "name": "stderr",
     "output_type": "stream",
     "text": [
      "\n"
     ]
    }
   ],
   "source": [
    "from sklearn.cluster import KMeans\n",
    "from sklearn.metrics import adjusted_rand_score, normalized_mutual_info_score, silhouette_score\n",
    "import matplotlib.pyplot as plt\n",
    "import torch\n",
    "from torch.utils.data import TensorDataset, DataLoader\n",
    "from tqdm import tqdm\n",
    "\n",
    "X_tensor = torch.tensor(X, dtype=torch.float32)\n",
    "y_tensor = torch.tensor(y, dtype=torch.long)\n",
    "dataset = TensorDataset(X_tensor, y_tensor)\n",
    "loader = DataLoader(dataset, batch_size=32, shuffle=True)\n",
    "\n",
    "encoder = KANEncoder(input_dim=X.shape[1], output_dim=128)\n",
    "center_loss_fn = CenterLoss(num_classes=num_classes, feat_dim=128)\n",
    "supcon_loss_fn = SupConLoss()\n",
    "optimizer = torch.optim.Adam(encoder.parameters(), lr=1e-3)\n",
    "\n",
    "epochs = 30\n",
    "loss_history = []\n",
    "ari_history = []\n",
    "nmi_history = []\n",
    "\n",
    "for epoch in tqdm(range(epochs)):\n",
    "    encoder.train()\n",
    "    total_loss = 0\n",
    "\n",
    "    for xb, yb in loader:\n",
    "        optimizer.zero_grad()\n",
    "        feats = encoder(xb)\n",
    "        loss = torch.tensor(0.0, requires_grad=True).to(xb.device)\n",
    "        if use_diversity:\n",
    "            loss += center_loss_fn(feats, yb) + differentiable_kshape_loss(feats, yb, num_classes)\n",
    "        if use_supcon:\n",
    "            loss += supcon_loss_fn(feats, yb)\n",
    "        loss.backward()\n",
    "        optimizer.step()\n",
    "        total_loss += loss.item()\n",
    "\n",
    "    loss_history.append(total_loss)\n",
    "\n",
    "   # ===== ✅ 聚类评估指标 =====\n",
    "    encoder.eval()\n",
    "    with torch.no_grad():\n",
    "        feats_all = encoder(X_tensor).cpu().numpy()\n",
    "        true_labels = y_tensor.cpu().numpy()\n",
    "\n",
    "    kmeans = KMeans(n_clusters=num_classes, n_init=20, random_state=42)\n",
    "    pred_labels = kmeans.fit_predict(feats_all)\n",
    "\n",
    "    ari = adjusted_rand_score(true_labels, pred_labels)\n",
    "    nmi = normalized_mutual_info_score(true_labels, pred_labels)\n",
    "    sil = silhouette_score(feats_all, pred_labels)\n",
    "\n",
    "    ari_history.append(ari)\n",
    "    nmi_history.append(nmi)\n",
    "\n",
    "    print(f\"Epoch {epoch} | Loss: {total_loss:.4f} | ARI: {ari:.4f} | NMI: {nmi:.4f} | Silhouette: {sil:.4f}\")\n",
    "    # 保存当前实验的最终 encoder\n",
    "all_encoders[exp_name] = deepcopy(encoder)\n"
   ]
  },
  {
   "cell_type": "markdown",
   "id": "73dccec3",
   "metadata": {},
   "source": [
    "## Experiment C: {'kan': True, 'supcon': True, 'diversity': False}"
   ]
  },
  {
   "cell_type": "code",
   "execution_count": 61,
   "id": "d5736b3e",
   "metadata": {},
   "outputs": [],
   "source": [
    "use_kan = True\n",
    "use_supcon = True\n",
    "use_diversity = False\n",
    "exp_name = 'C' "
   ]
  },
  {
   "cell_type": "code",
   "execution_count": 62,
   "id": "91e91228",
   "metadata": {},
   "outputs": [],
   "source": [
    "encoder = KANEncoder(input_dim=X.shape[1], output_dim=128) if use_kan else MLPEncoder(input_dim=X.shape[1], output_dim=128)\n",
    "center_loss_fn = CenterLoss(num_classes=num_classes, feat_dim=128)\n",
    "supcon_loss_fn = SupConLoss()\n",
    "optimizer = torch.optim.Adam(encoder.parameters(), lr=1e-3)"
   ]
  },
  {
   "cell_type": "code",
   "execution_count": 63,
   "id": "db2e5fbe",
   "metadata": {},
   "outputs": [
    {
     "name": "stderr",
     "output_type": "stream",
     "text": [
      "100%|██████████| 50/50 [00:00<00:00, 71114.00it/s]\n"
     ]
    },
    {
     "name": "stdout",
     "output_type": "stream",
     "text": [
      "Epoch 49 | Loss: 4.5410 | ARI: 0.5452 | NMI: 0.7115 | Silhouette: 0.4965\n",
      "Epoch 49 | Loss: 7.1088 | ARI: 0.6084 | NMI: 0.7519 | Silhouette: 0.5409\n",
      "Epoch 49 | Loss: 9.7721 | ARI: 0.5992 | NMI: 0.6909 | Silhouette: 0.2943\n",
      "Epoch 49 | Loss: 12.3359 | ARI: 0.6230 | NMI: 0.7090 | Silhouette: 0.3355\n",
      "Epoch 49 | Loss: 14.9533 | ARI: 0.6491 | NMI: 0.7332 | Silhouette: 0.3797\n",
      "Epoch 49 | Loss: 17.4355 | ARI: 0.6495 | NMI: 0.7336 | Silhouette: 0.4214\n",
      "Epoch 49 | Loss: 18.0994 | ARI: 0.6503 | NMI: 0.7345 | Silhouette: 0.4639\n"
     ]
    }
   ],
   "source": [
    "from sklearn.cluster import KMeans\n",
    "from sklearn.metrics import adjusted_rand_score, normalized_mutual_info_score, silhouette_score\n",
    "import matplotlib.pyplot as plt\n",
    "import torch\n",
    "from torch.utils.data import TensorDataset, DataLoader\n",
    "from tqdm import tqdm\n",
    "\n",
    "X_tensor = torch.tensor(X, dtype=torch.float32)\n",
    "y_tensor = torch.tensor(y, dtype=torch.long)\n",
    "dataset = TensorDataset(X_tensor, y_tensor)\n",
    "loader = DataLoader(dataset, batch_size=32, shuffle=True)\n",
    "\n",
    "encoder = KANEncoder(input_dim=X.shape[1], output_dim=128)\n",
    "center_loss_fn = CenterLoss(num_classes=num_classes, feat_dim=128)\n",
    "supcon_loss_fn = SupConLoss()\n",
    "optimizer = torch.optim.Adam(encoder.parameters(), lr=1e-3)\n",
    "\n",
    "epochs = 50\n",
    "loss_history = []\n",
    "ari_history = []\n",
    "nmi_history = []\n",
    "\n",
    "for epoch in tqdm(range(epochs)):\n",
    "    encoder.train()\n",
    "    total_loss = 0\n",
    "\n",
    "for xb, yb in loader:\n",
    "    optimizer.zero_grad()\n",
    "    feats = encoder(xb)\n",
    "    \n",
    "    loss = 0\n",
    "    if use_diversity:\n",
    "        loss = loss + center_loss_fn(feats, yb) + differentiable_kshape_loss(feats, yb, num_classes)\n",
    "    if use_supcon:\n",
    "        loss = loss + supcon_loss_fn(feats, yb)\n",
    "    \n",
    "    if not isinstance(loss, torch.Tensor):\n",
    "        loss = torch.tensor(loss, dtype=torch.float32, requires_grad=True).to(xb.device)\n",
    "    \n",
    "    loss.backward()\n",
    "    optimizer.step()\n",
    "    total_loss += loss.item()\n",
    "\n",
    "    loss_history.append(total_loss)\n",
    "\n",
    "   # ===== ✅ 聚类评估指标 =====\n",
    "    encoder.eval()\n",
    "    with torch.no_grad():\n",
    "        feats_all = encoder(X_tensor).cpu().numpy()\n",
    "        true_labels = y_tensor.cpu().numpy()\n",
    "\n",
    "    kmeans = KMeans(n_clusters=num_classes, n_init=20, random_state=42)\n",
    "    pred_labels = kmeans.fit_predict(feats_all)\n",
    "\n",
    "    ari = adjusted_rand_score(true_labels, pred_labels)\n",
    "    nmi = normalized_mutual_info_score(true_labels, pred_labels)\n",
    "    sil = silhouette_score(feats_all, pred_labels)\n",
    "\n",
    "    ari_history.append(ari)\n",
    "    nmi_history.append(nmi)\n",
    "\n",
    "    print(f\"Epoch {epoch} | Loss: {total_loss:.4f} | ARI: {ari:.4f} | NMI: {nmi:.4f} | Silhouette: {sil:.4f}\")\n",
    "    # 保存当前实验的最终 encoder\n",
    "all_encoders[exp_name] = deepcopy(encoder)\n"
   ]
  },
  {
   "cell_type": "markdown",
   "id": "6c24d5b5",
   "metadata": {},
   "source": [
    "## Experiment D: {'kan': True, 'supcon': False, 'diversity': True}"
   ]
  },
  {
   "cell_type": "code",
   "execution_count": 64,
   "id": "6398d066",
   "metadata": {},
   "outputs": [],
   "source": [
    "use_kan = True\n",
    "use_supcon = False\n",
    "use_diversity = True\n",
    "exp_name = 'D'  "
   ]
  },
  {
   "cell_type": "code",
   "execution_count": 65,
   "id": "5a78bfcb",
   "metadata": {},
   "outputs": [],
   "source": [
    "encoder = KANEncoder(input_dim=X.shape[1], output_dim=128) if use_kan else MLPEncoder(input_dim=X.shape[1], output_dim=128)\n",
    "center_loss_fn = CenterLoss(num_classes=num_classes, feat_dim=128)\n",
    "supcon_loss_fn = SupConLoss()\n",
    "optimizer = torch.optim.Adam(encoder.parameters(), lr=1e-3)"
   ]
  },
  {
   "cell_type": "code",
   "execution_count": 66,
   "id": "8f511bae",
   "metadata": {},
   "outputs": [
    {
     "name": "stderr",
     "output_type": "stream",
     "text": [
      " 10%|█         | 1/10 [00:04<00:37,  4.20s/it]"
     ]
    },
    {
     "name": "stdout",
     "output_type": "stream",
     "text": [
      "Epoch 0 | Loss: 13255.1648 | ARI: 0.6144 | NMI: 0.7030 | Silhouette: 0.4572\n"
     ]
    },
    {
     "name": "stderr",
     "output_type": "stream",
     "text": [
      " 20%|██        | 2/10 [00:08<00:34,  4.26s/it]"
     ]
    },
    {
     "name": "stdout",
     "output_type": "stream",
     "text": [
      "Epoch 1 | Loss: 12632.9910 | ARI: 0.6849 | NMI: 0.7763 | Silhouette: 0.6162\n"
     ]
    },
    {
     "name": "stderr",
     "output_type": "stream",
     "text": [
      " 30%|███       | 3/10 [00:12<00:28,  4.00s/it]"
     ]
    },
    {
     "name": "stdout",
     "output_type": "stream",
     "text": [
      "Epoch 2 | Loss: 12498.0450 | ARI: 0.7017 | NMI: 0.7952 | Silhouette: 0.6629\n"
     ]
    },
    {
     "name": "stderr",
     "output_type": "stream",
     "text": [
      " 40%|████      | 4/10 [00:15<00:23,  3.92s/it]"
     ]
    },
    {
     "name": "stdout",
     "output_type": "stream",
     "text": [
      "Epoch 3 | Loss: 12430.6806 | ARI: 0.8045 | NMI: 0.8686 | Silhouette: 0.6745\n"
     ]
    },
    {
     "name": "stderr",
     "output_type": "stream",
     "text": [
      " 50%|█████     | 5/10 [00:19<00:19,  3.88s/it]"
     ]
    },
    {
     "name": "stdout",
     "output_type": "stream",
     "text": [
      "Epoch 4 | Loss: 12368.0454 | ARI: 0.9481 | NMI: 0.9491 | Silhouette: 0.7493\n"
     ]
    },
    {
     "name": "stderr",
     "output_type": "stream",
     "text": [
      " 60%|██████    | 6/10 [00:23<00:14,  3.72s/it]"
     ]
    },
    {
     "name": "stdout",
     "output_type": "stream",
     "text": [
      "Epoch 5 | Loss: 12264.0778 | ARI: 0.9358 | NMI: 0.9404 | Silhouette: 0.8148\n"
     ]
    },
    {
     "name": "stderr",
     "output_type": "stream",
     "text": [
      " 70%|███████   | 7/10 [00:28<00:12,  4.20s/it]"
     ]
    },
    {
     "name": "stdout",
     "output_type": "stream",
     "text": [
      "Epoch 6 | Loss: 12139.8682 | ARI: 1.0000 | NMI: 1.0000 | Silhouette: 0.8792\n"
     ]
    },
    {
     "name": "stderr",
     "output_type": "stream",
     "text": [
      " 80%|████████  | 8/10 [00:32<00:08,  4.21s/it]"
     ]
    },
    {
     "name": "stdout",
     "output_type": "stream",
     "text": [
      "Epoch 7 | Loss: 12104.2094 | ARI: 1.0000 | NMI: 1.0000 | Silhouette: 0.9083\n"
     ]
    },
    {
     "name": "stderr",
     "output_type": "stream",
     "text": [
      " 90%|█████████ | 9/10 [00:37<00:04,  4.44s/it]"
     ]
    },
    {
     "name": "stdout",
     "output_type": "stream",
     "text": [
      "Epoch 8 | Loss: 12086.8430 | ARI: 1.0000 | NMI: 1.0000 | Silhouette: 0.9310\n"
     ]
    },
    {
     "name": "stderr",
     "output_type": "stream",
     "text": [
      "100%|██████████| 10/10 [00:41<00:00,  4.19s/it]"
     ]
    },
    {
     "name": "stdout",
     "output_type": "stream",
     "text": [
      "Epoch 9 | Loss: 12076.1656 | ARI: 1.0000 | NMI: 1.0000 | Silhouette: 0.9410\n"
     ]
    },
    {
     "name": "stderr",
     "output_type": "stream",
     "text": [
      "\n"
     ]
    }
   ],
   "source": [
    "from sklearn.cluster import KMeans\n",
    "from sklearn.metrics import adjusted_rand_score, normalized_mutual_info_score, silhouette_score\n",
    "import matplotlib.pyplot as plt\n",
    "import torch\n",
    "from torch.utils.data import TensorDataset, DataLoader\n",
    "from tqdm import tqdm\n",
    "\n",
    "X_tensor = torch.tensor(X, dtype=torch.float32)\n",
    "y_tensor = torch.tensor(y, dtype=torch.long)\n",
    "dataset = TensorDataset(X_tensor, y_tensor)\n",
    "loader = DataLoader(dataset, batch_size=32, shuffle=True)\n",
    "\n",
    "encoder = KANEncoder(input_dim=X.shape[1], output_dim=128)\n",
    "center_loss_fn = CenterLoss(num_classes=num_classes, feat_dim=128)\n",
    "supcon_loss_fn = SupConLoss()\n",
    "optimizer = torch.optim.Adam(encoder.parameters(), lr=1e-3)\n",
    "\n",
    "epochs = 10\n",
    "loss_history = []\n",
    "ari_history = []\n",
    "nmi_history = []\n",
    "\n",
    "for epoch in tqdm(range(epochs)):\n",
    "    encoder.train()\n",
    "    total_loss = 0\n",
    "\n",
    "    for xb, yb in loader:\n",
    "        optimizer.zero_grad()\n",
    "        feats = encoder(xb)\n",
    "        loss = 0\n",
    "        if use_diversity:\n",
    "            loss += center_loss_fn(feats, yb) + differentiable_kshape_loss(feats, yb, num_classes)\n",
    "        if use_supcon:\n",
    "            loss += supcon_loss_fn(feats, yb)\n",
    "        loss.backward()\n",
    "        optimizer.step()\n",
    "        total_loss += loss.item()\n",
    "\n",
    "    loss_history.append(total_loss)\n",
    "\n",
    "   # ===== ✅ 聚类评估指标 =====\n",
    "    encoder.eval()\n",
    "    with torch.no_grad():\n",
    "        feats_all = encoder(X_tensor).cpu().numpy()\n",
    "        true_labels = y_tensor.cpu().numpy()\n",
    "\n",
    "    kmeans = KMeans(n_clusters=num_classes, n_init=20, random_state=42)\n",
    "    pred_labels = kmeans.fit_predict(feats_all)\n",
    "\n",
    "    ari = adjusted_rand_score(true_labels, pred_labels)\n",
    "    nmi = normalized_mutual_info_score(true_labels, pred_labels)\n",
    "    sil = silhouette_score(feats_all, pred_labels)\n",
    "\n",
    "    ari_history.append(ari)\n",
    "    nmi_history.append(nmi)\n",
    "\n",
    "    print(f\"Epoch {epoch} | Loss: {total_loss:.4f} | ARI: {ari:.4f} | NMI: {nmi:.4f} | Silhouette: {sil:.4f}\")\n",
    "    # 保存当前实验的最终 encoder\n",
    "all_encoders[exp_name] = deepcopy(encoder)\n"
   ]
  },
  {
   "cell_type": "markdown",
   "id": "83e45c3c",
   "metadata": {},
   "source": [
    "## Experiment E: {'kan': False, 'supcon': True, 'diversity': True}"
   ]
  },
  {
   "cell_type": "code",
   "execution_count": 67,
   "id": "42f0fe31",
   "metadata": {},
   "outputs": [],
   "source": [
    "use_kan = False\n",
    "use_supcon = True\n",
    "use_diversity = True\n",
    "exp_name = 'E' "
   ]
  },
  {
   "cell_type": "code",
   "execution_count": 68,
   "id": "800406b6",
   "metadata": {},
   "outputs": [],
   "source": [
    "encoder = KANEncoder(input_dim=X.shape[1], output_dim=128) if use_kan else MLPEncoder(input_dim=X.shape[1], output_dim=128)\n",
    "center_loss_fn = CenterLoss(num_classes=num_classes, feat_dim=128)\n",
    "supcon_loss_fn = SupConLoss()\n",
    "optimizer = torch.optim.Adam(encoder.parameters(), lr=1e-3)"
   ]
  },
  {
   "cell_type": "code",
   "execution_count": 69,
   "id": "afd0b9a7",
   "metadata": {},
   "outputs": [
    {
     "name": "stderr",
     "output_type": "stream",
     "text": [
      " 10%|█         | 1/10 [00:03<00:30,  3.35s/it]"
     ]
    },
    {
     "name": "stdout",
     "output_type": "stream",
     "text": [
      "Epoch 0 | Loss: 11855.4006 | ARI: 0.5676 | NMI: 0.6707 | Silhouette: 0.4382\n"
     ]
    },
    {
     "name": "stderr",
     "output_type": "stream",
     "text": [
      " 20%|██        | 2/10 [00:07<00:32,  4.09s/it]"
     ]
    },
    {
     "name": "stdout",
     "output_type": "stream",
     "text": [
      "Epoch 1 | Loss: 11225.8594 | ARI: 0.6709 | NMI: 0.7609 | Silhouette: 0.5938\n"
     ]
    },
    {
     "name": "stderr",
     "output_type": "stream",
     "text": [
      " 30%|███       | 3/10 [00:12<00:28,  4.13s/it]"
     ]
    },
    {
     "name": "stdout",
     "output_type": "stream",
     "text": [
      "Epoch 2 | Loss: 11036.0498 | ARI: 0.6367 | NMI: 0.8051 | Silhouette: 0.7507\n"
     ]
    },
    {
     "name": "stderr",
     "output_type": "stream",
     "text": [
      " 40%|████      | 4/10 [00:17<00:27,  4.64s/it]"
     ]
    },
    {
     "name": "stdout",
     "output_type": "stream",
     "text": [
      "Epoch 3 | Loss: 10969.6244 | ARI: 0.6658 | NMI: 0.8200 | Silhouette: 0.7974\n"
     ]
    },
    {
     "name": "stderr",
     "output_type": "stream",
     "text": [
      " 50%|█████     | 5/10 [00:21<00:22,  4.56s/it]"
     ]
    },
    {
     "name": "stdout",
     "output_type": "stream",
     "text": [
      "Epoch 4 | Loss: 10935.7238 | ARI: 0.9358 | NMI: 0.9404 | Silhouette: 0.6693\n"
     ]
    },
    {
     "name": "stderr",
     "output_type": "stream",
     "text": [
      " 60%|██████    | 6/10 [00:28<00:21,  5.32s/it]"
     ]
    },
    {
     "name": "stdout",
     "output_type": "stream",
     "text": [
      "Epoch 5 | Loss: 10882.1548 | ARI: 0.9606 | NMI: 0.9587 | Silhouette: 0.7814\n"
     ]
    },
    {
     "name": "stderr",
     "output_type": "stream",
     "text": [
      " 70%|███████   | 7/10 [00:35<00:17,  5.73s/it]"
     ]
    },
    {
     "name": "stdout",
     "output_type": "stream",
     "text": [
      "Epoch 6 | Loss: 10789.1786 | ARI: 0.9606 | NMI: 0.9587 | Silhouette: 0.8481\n"
     ]
    },
    {
     "name": "stderr",
     "output_type": "stream",
     "text": [
      " 80%|████████  | 8/10 [00:40<00:11,  5.63s/it]"
     ]
    },
    {
     "name": "stdout",
     "output_type": "stream",
     "text": [
      "Epoch 7 | Loss: 10690.4960 | ARI: 1.0000 | NMI: 1.0000 | Silhouette: 0.8990\n"
     ]
    },
    {
     "name": "stderr",
     "output_type": "stream",
     "text": [
      " 90%|█████████ | 9/10 [00:44<00:05,  5.15s/it]"
     ]
    },
    {
     "name": "stdout",
     "output_type": "stream",
     "text": [
      "Epoch 8 | Loss: 10665.6438 | ARI: 1.0000 | NMI: 1.0000 | Silhouette: 0.9142\n"
     ]
    },
    {
     "name": "stderr",
     "output_type": "stream",
     "text": [
      "100%|██████████| 10/10 [00:50<00:00,  5.07s/it]"
     ]
    },
    {
     "name": "stdout",
     "output_type": "stream",
     "text": [
      "Epoch 9 | Loss: 10650.2880 | ARI: 1.0000 | NMI: 1.0000 | Silhouette: 0.9262\n"
     ]
    },
    {
     "name": "stderr",
     "output_type": "stream",
     "text": [
      "\n"
     ]
    }
   ],
   "source": [
    "from sklearn.cluster import KMeans\n",
    "from sklearn.metrics import adjusted_rand_score, normalized_mutual_info_score, silhouette_score\n",
    "import matplotlib.pyplot as plt\n",
    "import torch\n",
    "from torch.utils.data import TensorDataset, DataLoader\n",
    "from tqdm import tqdm\n",
    "\n",
    "X_tensor = torch.tensor(X, dtype=torch.float32)\n",
    "y_tensor = torch.tensor(y, dtype=torch.long)\n",
    "dataset = TensorDataset(X_tensor, y_tensor)\n",
    "loader = DataLoader(dataset, batch_size=32, shuffle=True)\n",
    "\n",
    "encoder = KANEncoder(input_dim=X.shape[1], output_dim=128)\n",
    "center_loss_fn = CenterLoss(num_classes=num_classes, feat_dim=128)\n",
    "supcon_loss_fn = SupConLoss()\n",
    "optimizer = torch.optim.Adam(encoder.parameters(), lr=1e-3)\n",
    "\n",
    "epochs = 10\n",
    "loss_history = []\n",
    "ari_history = []\n",
    "nmi_history = []\n",
    "\n",
    "for epoch in tqdm(range(epochs)):\n",
    "    encoder.train()\n",
    "    total_loss = 0\n",
    "\n",
    "    for xb, yb in loader:\n",
    "        optimizer.zero_grad()\n",
    "        feats = encoder(xb)\n",
    "        loss = 0\n",
    "        if use_diversity:\n",
    "            loss += center_loss_fn(feats, yb) + differentiable_kshape_loss(feats, yb, num_classes)\n",
    "        if use_supcon:\n",
    "            loss += supcon_loss_fn(feats, yb)\n",
    "        loss.backward()\n",
    "        optimizer.step()\n",
    "        total_loss += loss.item()\n",
    "\n",
    "    loss_history.append(total_loss)\n",
    "\n",
    "   # ===== ✅ 聚类评估指标 =====\n",
    "    encoder.eval()\n",
    "    with torch.no_grad():\n",
    "        feats_all = encoder(X_tensor).cpu().numpy()\n",
    "        true_labels = y_tensor.cpu().numpy()\n",
    "\n",
    "    kmeans = KMeans(n_clusters=num_classes, n_init=20, random_state=42)\n",
    "    pred_labels = kmeans.fit_predict(feats_all)\n",
    "\n",
    "    ari = adjusted_rand_score(true_labels, pred_labels)\n",
    "    nmi = normalized_mutual_info_score(true_labels, pred_labels)\n",
    "    sil = silhouette_score(feats_all, pred_labels)\n",
    "\n",
    "    ari_history.append(ari)\n",
    "    nmi_history.append(nmi)\n",
    "\n",
    "    print(f\"Epoch {epoch} | Loss: {total_loss:.4f} | ARI: {ari:.4f} | NMI: {nmi:.4f} | Silhouette: {sil:.4f}\")\n",
    "    # 保存当前实验的最终 encoder\n",
    "all_encoders[exp_name] = deepcopy(encoder)\n"
   ]
  },
  {
   "cell_type": "markdown",
   "id": "8f75a7fe",
   "metadata": {},
   "source": [
    "## Experiment F: {'kan': False, 'supcon': True, 'diversity': False}"
   ]
  },
  {
   "cell_type": "code",
   "execution_count": 70,
   "id": "cf404998",
   "metadata": {},
   "outputs": [],
   "source": [
    "use_kan = False\n",
    "use_supcon = True\n",
    "use_diversity = False\n",
    "exp_name = 'F' "
   ]
  },
  {
   "cell_type": "code",
   "execution_count": 71,
   "id": "13f4972c",
   "metadata": {},
   "outputs": [],
   "source": [
    "encoder = KANEncoder(input_dim=X.shape[1], output_dim=128) if use_kan else MLPEncoder(input_dim=X.shape[1], output_dim=128)\n",
    "center_loss_fn = CenterLoss(num_classes=num_classes, feat_dim=128)\n",
    "supcon_loss_fn = SupConLoss()\n",
    "optimizer = torch.optim.Adam(encoder.parameters(), lr=1e-3)"
   ]
  },
  {
   "cell_type": "code",
   "execution_count": 72,
   "id": "d4ab0ddf",
   "metadata": {},
   "outputs": [
    {
     "name": "stderr",
     "output_type": "stream",
     "text": [
      "  5%|▌         | 1/20 [00:04<01:26,  4.53s/it]"
     ]
    },
    {
     "name": "stdout",
     "output_type": "stream",
     "text": [
      "Epoch 0 | Loss: 17.4956 | ARI: 0.6250 | NMI: 0.7112 | Silhouette: 0.4862\n"
     ]
    },
    {
     "name": "stderr",
     "output_type": "stream",
     "text": [
      " 10%|█         | 2/20 [00:09<01:29,  4.98s/it]"
     ]
    },
    {
     "name": "stdout",
     "output_type": "stream",
     "text": [
      "Epoch 1 | Loss: 14.0047 | ARI: 0.6655 | NMI: 0.7525 | Silhouette: 0.5902\n"
     ]
    },
    {
     "name": "stderr",
     "output_type": "stream",
     "text": [
      " 15%|█▌        | 3/20 [00:15<01:28,  5.21s/it]"
     ]
    },
    {
     "name": "stdout",
     "output_type": "stream",
     "text": [
      "Epoch 2 | Loss: 14.4954 | ARI: 0.6658 | NMI: 0.8200 | Silhouette: 0.7010\n"
     ]
    },
    {
     "name": "stderr",
     "output_type": "stream",
     "text": [
      " 20%|██        | 4/20 [00:17<01:05,  4.10s/it]"
     ]
    },
    {
     "name": "stdout",
     "output_type": "stream",
     "text": [
      "Epoch 3 | Loss: 12.9096 | ARI: 0.6645 | NMI: 0.7534 | Silhouette: 0.5919\n"
     ]
    },
    {
     "name": "stderr",
     "output_type": "stream",
     "text": [
      " 25%|██▌       | 5/20 [00:19<00:49,  3.27s/it]"
     ]
    },
    {
     "name": "stdout",
     "output_type": "stream",
     "text": [
      "Epoch 4 | Loss: 13.5182 | ARI: 0.6645 | NMI: 0.7534 | Silhouette: 0.5579\n"
     ]
    },
    {
     "name": "stderr",
     "output_type": "stream",
     "text": [
      " 30%|███       | 6/20 [00:21<00:39,  2.79s/it]"
     ]
    },
    {
     "name": "stdout",
     "output_type": "stream",
     "text": [
      "Epoch 5 | Loss: 12.7036 | ARI: 0.6644 | NMI: 0.7530 | Silhouette: 0.5694\n"
     ]
    },
    {
     "name": "stderr",
     "output_type": "stream",
     "text": [
      " 35%|███▌      | 7/20 [00:23<00:32,  2.51s/it]"
     ]
    },
    {
     "name": "stdout",
     "output_type": "stream",
     "text": [
      "Epoch 6 | Loss: 13.7916 | ARI: 0.6343 | NMI: 0.8040 | Silhouette: 0.6792\n"
     ]
    },
    {
     "name": "stderr",
     "output_type": "stream",
     "text": [
      " 40%|████      | 8/20 [00:24<00:25,  2.10s/it]"
     ]
    },
    {
     "name": "stdout",
     "output_type": "stream",
     "text": [
      "Epoch 7 | Loss: 12.7886 | ARI: 0.6963 | NMI: 0.7689 | Silhouette: 0.5587\n"
     ]
    },
    {
     "name": "stderr",
     "output_type": "stream",
     "text": [
      " 45%|████▌     | 9/20 [00:26<00:22,  2.00s/it]"
     ]
    },
    {
     "name": "stdout",
     "output_type": "stream",
     "text": [
      "Epoch 8 | Loss: 12.4725 | ARI: 0.6780 | NMI: 0.7588 | Silhouette: 0.5633\n"
     ]
    },
    {
     "name": "stderr",
     "output_type": "stream",
     "text": [
      " 50%|█████     | 10/20 [00:27<00:18,  1.88s/it]"
     ]
    },
    {
     "name": "stdout",
     "output_type": "stream",
     "text": [
      "Epoch 9 | Loss: 12.2307 | ARI: 0.8127 | NMI: 0.8724 | Silhouette: 0.5444\n"
     ]
    },
    {
     "name": "stderr",
     "output_type": "stream",
     "text": [
      " 55%|█████▌    | 11/20 [00:29<00:15,  1.67s/it]"
     ]
    },
    {
     "name": "stdout",
     "output_type": "stream",
     "text": [
      "Epoch 10 | Loss: 13.7762 | ARI: 0.9122 | NMI: 0.9251 | Silhouette: 0.6134\n"
     ]
    },
    {
     "name": "stderr",
     "output_type": "stream",
     "text": [
      " 60%|██████    | 12/20 [00:31<00:14,  1.80s/it]"
     ]
    },
    {
     "name": "stdout",
     "output_type": "stream",
     "text": [
      "Epoch 11 | Loss: 12.8877 | ARI: 0.9606 | NMI: 0.9587 | Silhouette: 0.6778\n"
     ]
    },
    {
     "name": "stderr",
     "output_type": "stream",
     "text": [
      " 65%|██████▌   | 13/20 [00:32<00:11,  1.68s/it]"
     ]
    },
    {
     "name": "stdout",
     "output_type": "stream",
     "text": [
      "Epoch 12 | Loss: 13.1178 | ARI: 1.0000 | NMI: 1.0000 | Silhouette: 0.6672\n"
     ]
    },
    {
     "name": "stderr",
     "output_type": "stream",
     "text": [
      " 70%|███████   | 14/20 [00:34<00:09,  1.60s/it]"
     ]
    },
    {
     "name": "stdout",
     "output_type": "stream",
     "text": [
      "Epoch 13 | Loss: 12.0578 | ARI: 0.9481 | NMI: 0.9491 | Silhouette: 0.6446\n"
     ]
    },
    {
     "name": "stderr",
     "output_type": "stream",
     "text": [
      " 75%|███████▌  | 15/20 [00:35<00:07,  1.51s/it]"
     ]
    },
    {
     "name": "stdout",
     "output_type": "stream",
     "text": [
      "Epoch 14 | Loss: 9.1200 | ARI: 0.9735 | NMI: 0.9696 | Silhouette: 0.6494\n"
     ]
    },
    {
     "name": "stderr",
     "output_type": "stream",
     "text": [
      " 80%|████████  | 16/20 [00:36<00:05,  1.45s/it]"
     ]
    },
    {
     "name": "stdout",
     "output_type": "stream",
     "text": [
      "Epoch 15 | Loss: 11.5600 | ARI: 0.9238 | NMI: 0.9324 | Silhouette: 0.6410\n"
     ]
    },
    {
     "name": "stderr",
     "output_type": "stream",
     "text": [
      " 85%|████████▌ | 17/20 [00:38<00:04,  1.43s/it]"
     ]
    },
    {
     "name": "stdout",
     "output_type": "stream",
     "text": [
      "Epoch 16 | Loss: 11.5765 | ARI: 1.0000 | NMI: 1.0000 | Silhouette: 0.6823\n"
     ]
    },
    {
     "name": "stderr",
     "output_type": "stream",
     "text": [
      " 90%|█████████ | 18/20 [00:39<00:02,  1.42s/it]"
     ]
    },
    {
     "name": "stdout",
     "output_type": "stream",
     "text": [
      "Epoch 17 | Loss: 9.9074 | ARI: 1.0000 | NMI: 1.0000 | Silhouette: 0.6662\n"
     ]
    },
    {
     "name": "stderr",
     "output_type": "stream",
     "text": [
      " 95%|█████████▌| 19/20 [00:41<00:01,  1.56s/it]"
     ]
    },
    {
     "name": "stdout",
     "output_type": "stream",
     "text": [
      "Epoch 18 | Loss: 10.7485 | ARI: 1.0000 | NMI: 1.0000 | Silhouette: 0.6526\n"
     ]
    },
    {
     "name": "stderr",
     "output_type": "stream",
     "text": [
      "100%|██████████| 20/20 [00:42<00:00,  2.15s/it]"
     ]
    },
    {
     "name": "stdout",
     "output_type": "stream",
     "text": [
      "Epoch 19 | Loss: 11.7168 | ARI: 1.0000 | NMI: 1.0000 | Silhouette: 0.6595\n"
     ]
    },
    {
     "name": "stderr",
     "output_type": "stream",
     "text": [
      "\n"
     ]
    }
   ],
   "source": [
    "from sklearn.cluster import KMeans\n",
    "from sklearn.metrics import adjusted_rand_score, normalized_mutual_info_score, silhouette_score\n",
    "import matplotlib.pyplot as plt\n",
    "import torch\n",
    "from torch.utils.data import TensorDataset, DataLoader\n",
    "from tqdm import tqdm\n",
    "\n",
    "X_tensor = torch.tensor(X, dtype=torch.float32)\n",
    "y_tensor = torch.tensor(y, dtype=torch.long)\n",
    "dataset = TensorDataset(X_tensor, y_tensor)\n",
    "loader = DataLoader(dataset, batch_size=32, shuffle=True)\n",
    "\n",
    "encoder = KANEncoder(input_dim=X.shape[1], output_dim=128)\n",
    "center_loss_fn = CenterLoss(num_classes=num_classes, feat_dim=128)\n",
    "supcon_loss_fn = SupConLoss()\n",
    "optimizer = torch.optim.Adam(encoder.parameters(), lr=1e-3)\n",
    "\n",
    "epochs = 20\n",
    "loss_history = []\n",
    "ari_history = []\n",
    "nmi_history = []\n",
    "\n",
    "for epoch in tqdm(range(epochs)):\n",
    "    encoder.train()\n",
    "    total_loss = 0\n",
    "\n",
    "    for xb, yb in loader:\n",
    "        optimizer.zero_grad()\n",
    "        feats = encoder(xb)\n",
    "        loss = 0\n",
    "        if use_diversity:\n",
    "            loss += center_loss_fn(feats, yb) + differentiable_kshape_loss(feats, yb, num_classes)\n",
    "        if use_supcon:\n",
    "            loss += supcon_loss_fn(feats, yb)\n",
    "        loss.backward()\n",
    "        optimizer.step()\n",
    "        total_loss += loss.item()\n",
    "\n",
    "    loss_history.append(total_loss)\n",
    "\n",
    "   # ===== ✅ 聚类评估指标 =====\n",
    "    encoder.eval()\n",
    "    with torch.no_grad():\n",
    "        feats_all = encoder(X_tensor).cpu().numpy()\n",
    "        true_labels = y_tensor.cpu().numpy()\n",
    "\n",
    "    kmeans = KMeans(n_clusters=num_classes, n_init=20, random_state=42)\n",
    "    pred_labels = kmeans.fit_predict(feats_all)\n",
    "\n",
    "    ari = adjusted_rand_score(true_labels, pred_labels)\n",
    "    nmi = normalized_mutual_info_score(true_labels, pred_labels)\n",
    "    sil = silhouette_score(feats_all, pred_labels)\n",
    "\n",
    "    ari_history.append(ari)\n",
    "    nmi_history.append(nmi)\n",
    "\n",
    "    print(f\"Epoch {epoch} | Loss: {total_loss:.4f} | ARI: {ari:.4f} | NMI: {nmi:.4f} | Silhouette: {sil:.4f}\")\n",
    "    # 保存当前实验的最终 encoder\n",
    "all_encoders[exp_name] = deepcopy(encoder)\n"
   ]
  },
  {
   "cell_type": "markdown",
   "id": "1a01fa19",
   "metadata": {},
   "source": [
    "## Experiment G: {'kan': False, 'supcon': False, 'diversity': True}"
   ]
  },
  {
   "cell_type": "code",
   "execution_count": 73,
   "id": "b0ec4cb6",
   "metadata": {},
   "outputs": [],
   "source": [
    "use_kan = False\n",
    "use_supcon = False\n",
    "use_diversity = True\n",
    "exp_name = 'G' "
   ]
  },
  {
   "cell_type": "code",
   "execution_count": 74,
   "id": "e79f306f",
   "metadata": {},
   "outputs": [],
   "source": [
    "encoder = KANEncoder(input_dim=X.shape[1], output_dim=128) if use_kan else MLPEncoder(input_dim=X.shape[1], output_dim=128)\n",
    "center_loss_fn = CenterLoss(num_classes=num_classes, feat_dim=128)\n",
    "supcon_loss_fn = SupConLoss()\n",
    "optimizer = torch.optim.Adam(encoder.parameters(), lr=1e-3)"
   ]
  },
  {
   "cell_type": "code",
   "execution_count": 75,
   "id": "5a8c56ce",
   "metadata": {},
   "outputs": [
    {
     "name": "stderr",
     "output_type": "stream",
     "text": [
      " 10%|█         | 1/10 [00:01<00:13,  1.48s/it]"
     ]
    },
    {
     "name": "stdout",
     "output_type": "stream",
     "text": [
      "Epoch 0 | Loss: 13557.5269 | ARI: 0.5994 | NMI: 0.6938 | Silhouette: 0.4705\n"
     ]
    },
    {
     "name": "stderr",
     "output_type": "stream",
     "text": [
      " 20%|██        | 2/10 [00:03<00:12,  1.61s/it]"
     ]
    },
    {
     "name": "stdout",
     "output_type": "stream",
     "text": [
      "Epoch 1 | Loss: 12868.1075 | ARI: 0.6347 | NMI: 0.7213 | Silhouette: 0.6068\n"
     ]
    },
    {
     "name": "stderr",
     "output_type": "stream",
     "text": [
      " 30%|███       | 3/10 [00:05<00:12,  1.74s/it]"
     ]
    },
    {
     "name": "stdout",
     "output_type": "stream",
     "text": [
      "Epoch 2 | Loss: 12701.4049 | ARI: 0.6940 | NMI: 0.7960 | Silhouette: 0.6819\n"
     ]
    },
    {
     "name": "stderr",
     "output_type": "stream",
     "text": [
      " 40%|████      | 4/10 [00:06<00:09,  1.66s/it]"
     ]
    },
    {
     "name": "stdout",
     "output_type": "stream",
     "text": [
      "Epoch 3 | Loss: 12622.7784 | ARI: 0.7007 | NMI: 0.8088 | Silhouette: 0.7064\n"
     ]
    },
    {
     "name": "stderr",
     "output_type": "stream",
     "text": [
      " 50%|█████     | 5/10 [00:08<00:08,  1.64s/it]"
     ]
    },
    {
     "name": "stdout",
     "output_type": "stream",
     "text": [
      "Epoch 4 | Loss: 12587.8470 | ARI: 0.8686 | NMI: 0.9001 | Silhouette: 0.6898\n"
     ]
    },
    {
     "name": "stderr",
     "output_type": "stream",
     "text": [
      " 60%|██████    | 6/10 [00:09<00:06,  1.68s/it]"
     ]
    },
    {
     "name": "stdout",
     "output_type": "stream",
     "text": [
      "Epoch 5 | Loss: 12531.6910 | ARI: 0.9481 | NMI: 0.9491 | Silhouette: 0.7804\n"
     ]
    },
    {
     "name": "stderr",
     "output_type": "stream",
     "text": [
      " 70%|███████   | 7/10 [00:11<00:04,  1.56s/it]"
     ]
    },
    {
     "name": "stdout",
     "output_type": "stream",
     "text": [
      "Epoch 6 | Loss: 12446.3091 | ARI: 0.9735 | NMI: 0.9696 | Silhouette: 0.8468\n"
     ]
    },
    {
     "name": "stderr",
     "output_type": "stream",
     "text": [
      " 80%|████████  | 8/10 [00:12<00:02,  1.48s/it]"
     ]
    },
    {
     "name": "stdout",
     "output_type": "stream",
     "text": [
      "Epoch 7 | Loss: 12337.7678 | ARI: 0.9866 | NMI: 0.9823 | Silhouette: 0.9017\n"
     ]
    },
    {
     "name": "stderr",
     "output_type": "stream",
     "text": [
      " 90%|█████████ | 9/10 [00:13<00:01,  1.43s/it]"
     ]
    },
    {
     "name": "stdout",
     "output_type": "stream",
     "text": [
      "Epoch 8 | Loss: 12292.7165 | ARI: 1.0000 | NMI: 1.0000 | Silhouette: 0.9150\n"
     ]
    },
    {
     "name": "stderr",
     "output_type": "stream",
     "text": [
      "100%|██████████| 10/10 [00:15<00:00,  1.53s/it]"
     ]
    },
    {
     "name": "stdout",
     "output_type": "stream",
     "text": [
      "Epoch 9 | Loss: 12281.1765 | ARI: 1.0000 | NMI: 1.0000 | Silhouette: 0.9321\n"
     ]
    },
    {
     "name": "stderr",
     "output_type": "stream",
     "text": [
      "\n"
     ]
    }
   ],
   "source": [
    "from sklearn.cluster import KMeans\n",
    "from sklearn.metrics import adjusted_rand_score, normalized_mutual_info_score, silhouette_score\n",
    "import matplotlib.pyplot as plt\n",
    "import torch\n",
    "from torch.utils.data import TensorDataset, DataLoader\n",
    "from tqdm import tqdm\n",
    "\n",
    "X_tensor = torch.tensor(X, dtype=torch.float32)\n",
    "y_tensor = torch.tensor(y, dtype=torch.long)\n",
    "dataset = TensorDataset(X_tensor, y_tensor)\n",
    "loader = DataLoader(dataset, batch_size=32, shuffle=True)\n",
    "\n",
    "encoder = KANEncoder(input_dim=X.shape[1], output_dim=128)\n",
    "center_loss_fn = CenterLoss(num_classes=num_classes, feat_dim=128)\n",
    "supcon_loss_fn = SupConLoss()\n",
    "optimizer = torch.optim.Adam(encoder.parameters(), lr=1e-3)\n",
    "\n",
    "epochs = 10\n",
    "loss_history = []\n",
    "ari_history = []\n",
    "nmi_history = []\n",
    "\n",
    "for epoch in tqdm(range(epochs)):\n",
    "    encoder.train()\n",
    "    total_loss = 0\n",
    "\n",
    "    for xb, yb in loader:\n",
    "        optimizer.zero_grad()\n",
    "        feats = encoder(xb)\n",
    "        loss = 0\n",
    "        if use_diversity:\n",
    "            loss += center_loss_fn(feats, yb) + differentiable_kshape_loss(feats, yb, num_classes)\n",
    "        if use_supcon:\n",
    "            loss += supcon_loss_fn(feats, yb)\n",
    "        loss.backward()\n",
    "        optimizer.step()\n",
    "        total_loss += loss.item()\n",
    "\n",
    "    loss_history.append(total_loss)\n",
    "\n",
    "   # ===== ✅ 聚类评估指标 =====\n",
    "    encoder.eval()\n",
    "    with torch.no_grad():\n",
    "        feats_all = encoder(X_tensor).cpu().numpy()\n",
    "        true_labels = y_tensor.cpu().numpy()\n",
    "\n",
    "    kmeans = KMeans(n_clusters=num_classes, n_init=20, random_state=42)\n",
    "    pred_labels = kmeans.fit_predict(feats_all)\n",
    "\n",
    "    ari = adjusted_rand_score(true_labels, pred_labels)\n",
    "    nmi = normalized_mutual_info_score(true_labels, pred_labels)\n",
    "    sil = silhouette_score(feats_all, pred_labels)\n",
    "\n",
    "    ari_history.append(ari)\n",
    "    nmi_history.append(nmi)\n",
    "\n",
    "    print(f\"Epoch {epoch} | Loss: {total_loss:.4f} | ARI: {ari:.4f} | NMI: {nmi:.4f} | Silhouette: {sil:.4f}\")\n",
    "    # 保存当前实验的最终 encoder\n",
    "all_encoders[exp_name] = deepcopy(encoder)\n"
   ]
  },
  {
   "cell_type": "markdown",
   "id": "0c741203",
   "metadata": {},
   "source": [
    "## 📊 Evaluation: ARI, NMI, Silhouette for A–G"
   ]
  },
  {
   "cell_type": "code",
   "execution_count": 78,
   "id": "e447b020",
   "metadata": {},
   "outputs": [
    {
     "name": "stdout",
     "output_type": "stream",
     "text": [
      "| Experiment   |    ARI |    NMI |   Silhouette |\n",
      "|:-------------|-------:|-------:|-------------:|\n",
      "| A            | 0.5939 | 0.6889 |       0.3068 |\n",
      "| B            | 0.3407 | 0.5088 |       0.3179 |\n",
      "| C            | 0.6503 | 0.7345 |       0.4639 |\n",
      "| D            | 1      | 1      |       0.941  |\n",
      "| E            | 1      | 1      |       0.9262 |\n",
      "| F            | 1      | 1      |       0.6595 |\n",
      "| G            | 1      | 1      |       0.9321 |\n"
     ]
    }
   ],
   "source": [
    "\n",
    "from sklearn.metrics import adjusted_rand_score, normalized_mutual_info_score, silhouette_score\n",
    "from sklearn.cluster import KMeans\n",
    "import pandas as pd\n",
    "\n",
    "experiments = all_encoders\n",
    "\n",
    "results = []\n",
    "X_all = X_tensor\n",
    "y_true = y_tensor.numpy()\n",
    "\n",
    "for exp_name, encoder in experiments.items():\n",
    "    encoder.eval()\n",
    "    with torch.no_grad():\n",
    "        feats = encoder(X_all).cpu().numpy()\n",
    "\n",
    "    pred_labels = KMeans(n_clusters=num_classes, random_state=42).fit_predict(feats)\n",
    "\n",
    "    ari = adjusted_rand_score(y_true, pred_labels)\n",
    "    nmi = normalized_mutual_info_score(y_true, pred_labels)\n",
    "    sil = silhouette_score(feats, pred_labels)\n",
    "\n",
    "    results.append({\n",
    "        'Experiment': exp_name,\n",
    "        'ARI': round(ari, 4),\n",
    "        'NMI': round(nmi, 4),\n",
    "        'Silhouette': round(sil, 4)\n",
    "    })\n",
    "\n",
    "df_result = pd.DataFrame(results).sort_values(by='Experiment')\n",
    "print(df_result.to_markdown(index=False))\n"
   ]
  },
  {
   "cell_type": "code",
   "execution_count": null,
   "id": "fafa24bb-54ca-40db-b7e0-112ebf14db0e",
   "metadata": {},
   "outputs": [],
   "source": []
  },
  {
   "cell_type": "code",
   "execution_count": null,
   "id": "8c5f6742-34a7-4693-8710-e63af1fd8ab4",
   "metadata": {},
   "outputs": [],
   "source": []
  }
 ],
 "metadata": {
  "kernelspec": {
   "display_name": "Python 3 (ipykernel)",
   "language": "python",
   "name": "python3"
  },
  "language_info": {
   "codemirror_mode": {
    "name": "ipython",
    "version": 3
   },
   "file_extension": ".py",
   "mimetype": "text/x-python",
   "name": "python",
   "nbconvert_exporter": "python",
   "pygments_lexer": "ipython3",
   "version": "3.11.8"
  }
 },
 "nbformat": 4,
 "nbformat_minor": 5
}
